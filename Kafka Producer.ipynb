{
 "cells": [
  {
   "cell_type": "markdown",
   "metadata": {},
   "source": [
    "# Ingesting realtime tweets using Apache Kafka"
   ]
  },
  {
   "cell_type": "markdown",
   "metadata": {},
   "source": [
    "Purpose:\n",
    "    1)Main data source for the lambda pipline\n",
    "    2)Uses twitter streaming API to simulate new events coming in every minute\n",
    "    3)Kafka Producer sends the tweets as records to the kafka Broker\n",
    "    \n",
    "Contents:\n",
    "    1)Twitter setup\n",
    "    2)Defining the Kafka producer\n",
    "    3)Producing and sending records to the Kafka Broker\n",
    "    4)Deployment "
   ]
  },
  {
   "cell_type": "code",
   "execution_count": 2,
   "metadata": {},
   "outputs": [],
   "source": [
    "import tweepy\n",
    "import time\n",
    "from kafka import KafkaConsumer, KafkaProducer"
   ]
  },
  {
   "cell_type": "markdown",
   "metadata": {},
   "source": [
    "Twitter setup:\n",
    "    \n",
    "    Getting the API object using authorization information"
   ]
  },
  {
   "cell_type": "code",
   "execution_count": 3,
   "metadata": {},
   "outputs": [],
   "source": [
    "# Twitter developer Credentials to connect to twitter account\n",
    "consumer_key=\"jdlA79ZiG76OmdWYKSPRFCeHy\"\n",
    "consumer_secret=\"JD145Mgq1ymAUuUdbFeGNpuwzslPDfVMiDntog71lelGKBT2DP\"\n",
    "access_token=\"1314937881048170496-8KvNVPLVJa4c9X3R35UaYLXmUtGvIr\"\n",
    "access_secret=\"XPxyYNeCG5dCRaSnwX1LFoqsHsUZk1CyL4DLxrZeWFNYH\""
   ]
  },
  {
   "cell_type": "code",
   "execution_count": 4,
   "metadata": {},
   "outputs": [],
   "source": [
    "#disastertweetsdemo\n",
    "#Creating the authentication object\n",
    "auth=tweepy.OAuthHandler(consumer_key, consumer_secret)\n",
    "auth.set_access_token(access_token,access_secret)\n",
    "api=tweepy.API(auth)"
   ]
  },
  {
   "cell_type": "code",
   "execution_count": 20,
   "metadata": {
    "scrolled": true
   },
   "outputs": [],
   "source": [
    "#from datetime import \n",
    "from datetime import datetime, timedelta\n",
    "def normalize_timestamp(time):\n",
    "    mytime=datetime.strptime(time,\"%Y-%m-%d %H:%M:%S\")\n",
    "    mytime+= timedelta(hours=1)   #the tweets are timestamped in GMT timezone, while I am in +1 timezone\n",
    "    return (mytime.strftime(\"%Y-%m-%d %H:%M:%S\"))"
   ]
  },
  {
   "cell_type": "markdown",
   "metadata": {},
   "source": [
    "Defining the Kafka producer\n",
    "\n",
    "Specify the Kafka Broker\n",
    "\n",
    "Specify the topic name\n",
    "\n",
    "Optional: Specify partioning strategy"
   ]
  },
  {
   "cell_type": "code",
   "execution_count": 5,
   "metadata": {},
   "outputs": [],
   "source": [
    "producer = KafkaProducer(bootstrap_servers='localhost:9092')\n",
    "topic_name = 'tweets-lambda1'"
   ]
  },
  {
   "cell_type": "markdown",
   "metadata": {},
   "source": [
    "# Producing and sending records to the Kafka Broker"
   ]
  },
  {
   "cell_type": "markdown",
   "metadata": {},
   "source": [
    "Resulting tweets have following attributes:\n",
    "\n",
    "    id , created_at ,followers_count ,location , favourite_count ,retweet_count"
   ]
  },
  {
   "cell_type": "code",
   "execution_count": 26,
   "metadata": {},
   "outputs": [],
   "source": [
    "def get_twitter_data():\n",
    "    res=api.search(\"Earthquake OR Wildfire OR Hurricane\")\n",
    "    for i in res:\n",
    "        record=''\n",
    "        record+=str(i.user.id_str)\n",
    "        record+=';'\n",
    "        record+=str(normalize_timestamp(str(i.created_at)))\n",
    "        record+=';'\n",
    "        record+=str(i.user.followers_count)\n",
    "        record+=\";\"\n",
    "        record+=str(i.user.location)\n",
    "        record+=\";\"\n",
    "        record+=str(i.favorite_count)\n",
    "        record+=\";\"\n",
    "        record+=str(i.retweet_count)\n",
    "        record+=\";\"\n",
    "        producer.send(topic_name, str.encode(record))        \n",
    "        "
   ]
  },
  {
   "cell_type": "code",
   "execution_count": 27,
   "metadata": {},
   "outputs": [],
   "source": [
    "get_twitter_data()"
   ]
  },
  {
   "cell_type": "markdown",
   "metadata": {},
   "source": [
    "# DEPLOYMENT"
   ]
  },
  {
   "cell_type": "code",
   "execution_count": 28,
   "metadata": {},
   "outputs": [],
   "source": [
    "def periodic_work(interval):\n",
    "    while True:\n",
    "        get_twittwer_data()\n",
    "        #interval should be an integer, the number of seconds to wait\n",
    "        time.sleep(interval)\n",
    "        "
   ]
  },
  {
   "cell_type": "code",
   "execution_count": null,
   "metadata": {},
   "outputs": [],
   "source": [
    "periodic_work(60*0.1) #get data every couple of minutes"
   ]
  }
 ],
 "metadata": {
  "kernelspec": {
   "display_name": "Python 3",
   "language": "python",
   "name": "python3"
  },
  "language_info": {
   "codemirror_mode": {
    "name": "ipython",
    "version": 3
   },
   "file_extension": ".py",
   "mimetype": "text/x-python",
   "name": "python",
   "nbconvert_exporter": "python",
   "pygments_lexer": "ipython3",
   "version": "3.8.5"
  }
 },
 "nbformat": 4,
 "nbformat_minor": 4
}
